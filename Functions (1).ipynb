{
 "cells": [
  {
   "cell_type": "code",
   "execution_count": 26,
   "id": "e6984f7b-90dd-4dfe-a6d5-7b5da6a88422",
   "metadata": {},
   "outputs": [],
   "source": [
    "#FUNCTIONS"
   ]
  },
  {
   "cell_type": "code",
   "execution_count": 35,
   "id": "5b4fdf1d-d9fb-451c-b99b-b91355c2caea",
   "metadata": {},
   "outputs": [],
   "source": [
    "def greet(name):\n",
    "    \"\"\"\n",
    "    This function greets whenever called\n",
    "    \"\"\"\n",
    "    print('Hey,have a good day',name)"
   ]
  },
  {
   "cell_type": "code",
   "execution_count": 36,
   "id": "5e06c19a-3cdc-4776-bd71-3808d861291a",
   "metadata": {},
   "outputs": [
    {
     "name": "stdout",
     "output_type": "stream",
     "text": [
      "<function greet at 0x000001C69C499E40>\n"
     ]
    }
   ],
   "source": [
    "print(greet)"
   ]
  },
  {
   "cell_type": "code",
   "execution_count": 41,
   "id": "2c868ba2-33b6-402a-81f1-dee3eb3be491",
   "metadata": {},
   "outputs": [
    {
     "data": {
      "text/plain": [
       "<function __main__.greet(name)>"
      ]
     },
     "execution_count": 41,
     "metadata": {},
     "output_type": "execute_result"
    }
   ],
   "source": [
    "greet"
   ]
  },
  {
   "cell_type": "code",
   "execution_count": 42,
   "id": "d3c0d4f6-b804-4264-983a-d353e9dbb72b",
   "metadata": {},
   "outputs": [
    {
     "name": "stdout",
     "output_type": "stream",
     "text": [
      "Hey,have a good day man\n"
     ]
    }
   ],
   "source": [
    "greet('man')"
   ]
  },
  {
   "cell_type": "code",
   "execution_count": 43,
   "id": "172bba4d-6fc6-45b9-96c8-74bcef6645b6",
   "metadata": {},
   "outputs": [
    {
     "data": {
      "text/plain": [
       "\u001b[1;31mSignature:\u001b[0m \u001b[0mgreet\u001b[0m\u001b[1;33m(\u001b[0m\u001b[0mname\u001b[0m\u001b[1;33m)\u001b[0m\u001b[1;33m\u001b[0m\u001b[1;33m\u001b[0m\u001b[0m\n",
       "\u001b[1;31mDocstring:\u001b[0m This function greets whenever called\n",
       "\u001b[1;31mFile:\u001b[0m      c:\\users\\canara\\appdata\\local\\temp\\ipykernel_17368\\2945805646.py\n",
       "\u001b[1;31mType:\u001b[0m      function"
      ]
     },
     "metadata": {},
     "output_type": "display_data"
    }
   ],
   "source": [
    "greet?"
   ]
  },
  {
   "cell_type": "code",
   "execution_count": 44,
   "id": "86fa94c4-fea1-415c-aef4-35dfc3107897",
   "metadata": {},
   "outputs": [
    {
     "name": "stdout",
     "output_type": "stream",
     "text": [
      "Hey,have a good day rahul\n"
     ]
    }
   ],
   "source": [
    "greet('rahul')"
   ]
  },
  {
   "cell_type": "code",
   "execution_count": 46,
   "id": "80c7bf0f-cdff-403c-9047-3db49abbf7d9",
   "metadata": {},
   "outputs": [],
   "source": [
    "#name is parameter\n",
    "#the name inserted ,i.e- Rahul is parameter"
   ]
  },
  {
   "cell_type": "code",
   "execution_count": 50,
   "id": "9656452f-f101-4972-86b4-38ed4754d53a",
   "metadata": {},
   "outputs": [],
   "source": [
    "def add(a,b):\n",
    "    print(a+b)"
   ]
  },
  {
   "cell_type": "code",
   "execution_count": 51,
   "id": "d9557bde-c311-4336-8d8f-c055fbc5a62e",
   "metadata": {},
   "outputs": [
    {
     "data": {
      "text/plain": [
       "<function __main__.add(a, b)>"
      ]
     },
     "execution_count": 51,
     "metadata": {},
     "output_type": "execute_result"
    }
   ],
   "source": [
    "add"
   ]
  },
  {
   "cell_type": "code",
   "execution_count": 52,
   "id": "a16992e1-97dd-454f-b92a-30fc1429f234",
   "metadata": {},
   "outputs": [
    {
     "name": "stdout",
     "output_type": "stream",
     "text": [
      "608\n"
     ]
    }
   ],
   "source": [
    "add(44,564)"
   ]
  },
  {
   "cell_type": "code",
   "execution_count": 56,
   "id": "92d38799-c7a2-47f9-bf32-e14be2e0ed86",
   "metadata": {},
   "outputs": [],
   "source": [
    "#Print vs Return"
   ]
  },
  {
   "cell_type": "code",
   "execution_count": 63,
   "id": "555f6316-1a32-4b26-9da9-d0f4cbf338c0",
   "metadata": {},
   "outputs": [],
   "source": [
    "def add(a,b):\n",
    "    c = a+b\n",
    "    print(c)"
   ]
  },
  {
   "cell_type": "code",
   "execution_count": 64,
   "id": "a8640b09-f6e4-45e4-96d9-b80efc39b7d7",
   "metadata": {
    "scrolled": true
   },
   "outputs": [
    {
     "name": "stdout",
     "output_type": "stream",
     "text": [
      "9\n"
     ]
    }
   ],
   "source": [
    "add(4,5)"
   ]
  },
  {
   "cell_type": "code",
   "execution_count": 67,
   "id": "b46da2b5-01de-46fa-b5fc-69dd4622cf74",
   "metadata": {},
   "outputs": [
    {
     "name": "stdout",
     "output_type": "stream",
     "text": [
      "9\n"
     ]
    }
   ],
   "source": [
    "a = add(4,5)"
   ]
  },
  {
   "cell_type": "code",
   "execution_count": 68,
   "id": "a1de51d7-f75d-4a09-bc54-fa136e225f6c",
   "metadata": {},
   "outputs": [
    {
     "data": {
      "text/plain": [
       "NoneType"
      ]
     },
     "execution_count": 68,
     "metadata": {},
     "output_type": "execute_result"
    }
   ],
   "source": [
    "type(a)"
   ]
  },
  {
   "cell_type": "code",
   "execution_count": 69,
   "id": "ffe7e697-084b-486b-a89b-f60104a8d245",
   "metadata": {},
   "outputs": [],
   "source": [
    "def add(a,b):\n",
    "    c = a+b\n",
    "    return c"
   ]
  },
  {
   "cell_type": "code",
   "execution_count": 70,
   "id": "7f4e7c0e-c038-439d-90cb-175d24f6cd58",
   "metadata": {},
   "outputs": [
    {
     "data": {
      "text/plain": [
       "11"
      ]
     },
     "execution_count": 70,
     "metadata": {},
     "output_type": "execute_result"
    }
   ],
   "source": [
    "add(5,6)"
   ]
  },
  {
   "cell_type": "code",
   "execution_count": 74,
   "id": "f3dc342f-7818-4f00-a535-a77f6cb24081",
   "metadata": {},
   "outputs": [],
   "source": [
    "a = add(5,6)"
   ]
  },
  {
   "cell_type": "code",
   "execution_count": 76,
   "id": "3c90c29b-f626-4443-a122-59d7f51da42c",
   "metadata": {},
   "outputs": [
    {
     "name": "stdout",
     "output_type": "stream",
     "text": [
      "11 <class 'int'>\n"
     ]
    }
   ],
   "source": [
    "print(a,type(a))"
   ]
  },
  {
   "cell_type": "code",
   "execution_count": 277,
   "id": "dbd0ff64-dcdb-4ae6-928d-397ad42b5574",
   "metadata": {},
   "outputs": [],
   "source": [
    "def func():\n",
    "    print('card')\n",
    "    return\n",
    "    print('deck')"
   ]
  },
  {
   "cell_type": "code",
   "execution_count": 278,
   "id": "5fbc3325-fed6-4b2e-b96c-dbeb1c42d142",
   "metadata": {},
   "outputs": [
    {
     "name": "stdout",
     "output_type": "stream",
     "text": [
      "card\n"
     ]
    }
   ],
   "source": [
    "func()"
   ]
  },
  {
   "cell_type": "code",
   "execution_count": 279,
   "id": "e24d7eca-5c5d-4fe1-a90c-990afb820089",
   "metadata": {},
   "outputs": [],
   "source": [
    "def youtube(x,y):\n",
    "    return x/y"
   ]
  },
  {
   "cell_type": "code",
   "execution_count": 82,
   "id": "c4c3fd26-3f4d-4e3a-b653-9e70f0ba8b2c",
   "metadata": {},
   "outputs": [
    {
     "data": {
      "text/plain": [
       "24.0"
      ]
     },
     "execution_count": 82,
     "metadata": {},
     "output_type": "execute_result"
    }
   ],
   "source": [
    "youtube(144,6)"
   ]
  },
  {
   "cell_type": "code",
   "execution_count": 108,
   "id": "46c07e7d-436b-46cc-9fce-7528ad510089",
   "metadata": {},
   "outputs": [],
   "source": [
    "def intro(name,age,hobby):\n",
    "    return (f'My name is {name} I am {age} years old and my hobby is {hobby}')"
   ]
  },
  {
   "cell_type": "code",
   "execution_count": 109,
   "id": "0f1485ae-5039-4416-bcd0-94a7fd42680c",
   "metadata": {},
   "outputs": [
    {
     "data": {
      "text/plain": [
       "'My name is Srijan I am 16 years old and my hobby is chess'"
      ]
     },
     "execution_count": 109,
     "metadata": {},
     "output_type": "execute_result"
    }
   ],
   "source": [
    "intro('Srijan',16,'chess')"
   ]
  },
  {
   "cell_type": "code",
   "execution_count": 110,
   "id": "689014bd-8b6f-43f1-ab6f-c7d392f4ffa3",
   "metadata": {},
   "outputs": [],
   "source": [
    "c = 'Rahul'\n",
    "d = '25'\n",
    "e = 'Travelling'"
   ]
  },
  {
   "cell_type": "code",
   "execution_count": 111,
   "id": "5e8d5229-19c7-4a68-ab2a-81374886d60e",
   "metadata": {},
   "outputs": [
    {
     "data": {
      "text/plain": [
       "'My name is Rahul I am 25 years old and my hobby is Travelling'"
      ]
     },
     "execution_count": 111,
     "metadata": {},
     "output_type": "execute_result"
    }
   ],
   "source": [
    "intro(c,d,e)"
   ]
  },
  {
   "cell_type": "code",
   "execution_count": 112,
   "id": "bcbff716-d5c9-4f72-95f2-fa6f4b3e77ae",
   "metadata": {},
   "outputs": [],
   "source": [
    "a = intro(c,d,e)"
   ]
  },
  {
   "cell_type": "code",
   "execution_count": 115,
   "id": "38224882-af97-4bdb-b10a-1952aa811cdc",
   "metadata": {},
   "outputs": [
    {
     "name": "stdout",
     "output_type": "stream",
     "text": [
      "My name is Rahul I am 25 years old and my hobby is Travelling <class 'str'>\n"
     ]
    }
   ],
   "source": [
    "print(a,type(a)) #If we used print command , it would have returned NoneType"
   ]
  },
  {
   "cell_type": "code",
   "execution_count": 122,
   "id": "bb60f5a5-7d31-4bab-80a1-ae7e3b42e3af",
   "metadata": {},
   "outputs": [],
   "source": [
    "def into(name,age,hobby):\n",
    "    return name , age , hobby"
   ]
  },
  {
   "cell_type": "code",
   "execution_count": 123,
   "id": "f2f2f29e-4ffc-4a13-9a1b-dfa93e1cc8dc",
   "metadata": {},
   "outputs": [
    {
     "data": {
      "text/plain": [
       "('srijan', 16, 'chess')"
      ]
     },
     "execution_count": 123,
     "metadata": {},
     "output_type": "execute_result"
    }
   ],
   "source": [
    "into('srijan',16,'chess')"
   ]
  },
  {
   "cell_type": "code",
   "execution_count": 125,
   "id": "29fad291-b78a-430c-af4b-236af5f22cfa",
   "metadata": {},
   "outputs": [],
   "source": [
    "a = 5\n",
    "def func():\n",
    "    print(a)"
   ]
  },
  {
   "cell_type": "code",
   "execution_count": 126,
   "id": "c2c29d35-957b-4793-a21e-bedf9fc3973a",
   "metadata": {},
   "outputs": [
    {
     "name": "stdout",
     "output_type": "stream",
     "text": [
      "5\n"
     ]
    }
   ],
   "source": [
    "func()"
   ]
  },
  {
   "cell_type": "code",
   "execution_count": 127,
   "id": "1ae7d9c9-625a-4b64-8cce-26befba61442",
   "metadata": {},
   "outputs": [
    {
     "name": "stdout",
     "output_type": "stream",
     "text": [
      "5\n"
     ]
    }
   ],
   "source": [
    "print(a)"
   ]
  },
  {
   "cell_type": "code",
   "execution_count": 128,
   "id": "a8d241ad-e135-4658-895c-4348eafc00b8",
   "metadata": {},
   "outputs": [],
   "source": [
    "a=5\n",
    "def unc():\n",
    "    a = 7\n",
    "    print(a)"
   ]
  },
  {
   "cell_type": "code",
   "execution_count": 129,
   "id": "93954948-a402-4cfb-b78f-17e11397f8b2",
   "metadata": {},
   "outputs": [
    {
     "data": {
      "text/plain": [
       "5"
      ]
     },
     "execution_count": 129,
     "metadata": {},
     "output_type": "execute_result"
    }
   ],
   "source": [
    "a"
   ]
  },
  {
   "cell_type": "code",
   "execution_count": 130,
   "id": "ec5d7761-9330-4d1f-9e0c-826d21f1088f",
   "metadata": {},
   "outputs": [
    {
     "name": "stdout",
     "output_type": "stream",
     "text": [
      "7\n"
     ]
    }
   ],
   "source": [
    "unc()"
   ]
  },
  {
   "cell_type": "code",
   "execution_count": 131,
   "id": "4d98f368-37e0-482e-9289-407cd997e108",
   "metadata": {},
   "outputs": [
    {
     "name": "stdout",
     "output_type": "stream",
     "text": [
      "5\n"
     ]
    }
   ],
   "source": [
    "print(a)"
   ]
  },
  {
   "cell_type": "code",
   "execution_count": 133,
   "id": "28bda695-2701-4c66-80ff-b833c160aa30",
   "metadata": {},
   "outputs": [
    {
     "data": {
      "text/plain": [
       "5"
      ]
     },
     "execution_count": 133,
     "metadata": {},
     "output_type": "execute_result"
    }
   ],
   "source": [
    "a"
   ]
  },
  {
   "cell_type": "code",
   "execution_count": 141,
   "id": "ea152180-7c27-4a74-b639-ad0b6d7aa303",
   "metadata": {},
   "outputs": [],
   "source": [
    "def gg():\n",
    "    global a\n",
    "    a = 7\n",
    "    print(a)"
   ]
  },
  {
   "cell_type": "code",
   "execution_count": 142,
   "id": "cda94ef0-8c3e-4e01-8702-8b37c92796c3",
   "metadata": {},
   "outputs": [
    {
     "data": {
      "text/plain": [
       "5"
      ]
     },
     "execution_count": 142,
     "metadata": {},
     "output_type": "execute_result"
    }
   ],
   "source": [
    "a"
   ]
  },
  {
   "cell_type": "code",
   "execution_count": 143,
   "id": "cca896a5-5f5a-4c60-83dd-8d1d39295228",
   "metadata": {},
   "outputs": [
    {
     "name": "stdout",
     "output_type": "stream",
     "text": [
      "7\n"
     ]
    }
   ],
   "source": [
    "gg()"
   ]
  },
  {
   "cell_type": "code",
   "execution_count": 144,
   "id": "fe8c6189-8d63-4c27-adc2-56f9c2fc7418",
   "metadata": {},
   "outputs": [
    {
     "data": {
      "text/plain": [
       "7"
      ]
     },
     "execution_count": 144,
     "metadata": {},
     "output_type": "execute_result"
    }
   ],
   "source": [
    "a"
   ]
  },
  {
   "cell_type": "code",
   "execution_count": 148,
   "id": "445ecf7a-d767-4ef6-ada3-845f05ba6829",
   "metadata": {},
   "outputs": [],
   "source": [
    "#lambda"
   ]
  },
  {
   "cell_type": "code",
   "execution_count": 149,
   "id": "016b975f-1c60-407c-b75d-2661e26d8248",
   "metadata": {},
   "outputs": [
    {
     "data": {
      "text/plain": [
       "<function __main__.<lambda>(a, b)>"
      ]
     },
     "execution_count": 149,
     "metadata": {},
     "output_type": "execute_result"
    }
   ],
   "source": [
    "lambda a,b : a+b"
   ]
  },
  {
   "cell_type": "code",
   "execution_count": 151,
   "id": "d11b7bf1-8182-4f72-8327-5b787091e4e3",
   "metadata": {},
   "outputs": [
    {
     "data": {
      "text/plain": [
       "10"
      ]
     },
     "execution_count": 151,
     "metadata": {},
     "output_type": "execute_result"
    }
   ],
   "source": [
    "(lambda a,b : a +b)(9,1)"
   ]
  },
  {
   "cell_type": "code",
   "execution_count": 152,
   "id": "05ce5e29-ba6c-45ec-9886-cec0c9d9eef2",
   "metadata": {},
   "outputs": [
    {
     "data": {
      "text/plain": [
       "6.0"
      ]
     },
     "execution_count": 152,
     "metadata": {},
     "output_type": "execute_result"
    }
   ],
   "source": [
    "(lambda a,b:a/b)(12,2)"
   ]
  },
  {
   "cell_type": "code",
   "execution_count": 153,
   "id": "bbd8f593-3158-4325-a221-f983b75ca8a8",
   "metadata": {},
   "outputs": [],
   "source": [
    "func = lambda a,b : a+b"
   ]
  },
  {
   "cell_type": "code",
   "execution_count": 154,
   "id": "04748b0d-e8b9-4c8c-b263-40e6c78996a7",
   "metadata": {},
   "outputs": [
    {
     "data": {
      "text/plain": [
       "8"
      ]
     },
     "execution_count": 154,
     "metadata": {},
     "output_type": "execute_result"
    }
   ],
   "source": [
    "func(3,5)"
   ]
  },
  {
   "cell_type": "code",
   "execution_count": 155,
   "id": "ed32789d-b8ba-43e1-9e40-55b39a37e1d1",
   "metadata": {},
   "outputs": [],
   "source": [
    "unc = lambda a,b:a/b"
   ]
  },
  {
   "cell_type": "code",
   "execution_count": 156,
   "id": "d298d425-d37b-436a-9bb6-b03e15f2f2ca",
   "metadata": {},
   "outputs": [
    {
     "data": {
      "text/plain": [
       "1.0"
      ]
     },
     "execution_count": 156,
     "metadata": {},
     "output_type": "execute_result"
    }
   ],
   "source": [
    "unc(4,4)"
   ]
  },
  {
   "cell_type": "code",
   "execution_count": 158,
   "id": "d8d26f80-5635-4e89-8470-604228b47bc6",
   "metadata": {},
   "outputs": [
    {
     "data": {
      "text/plain": [
       "10"
      ]
     },
     "execution_count": 158,
     "metadata": {},
     "output_type": "execute_result"
    }
   ],
   "source": [
    "func(5,5)"
   ]
  },
  {
   "cell_type": "code",
   "execution_count": 159,
   "id": "7e20d4da-02b9-4744-897d-1091ba79cde5",
   "metadata": {},
   "outputs": [
    {
     "data": {
      "text/plain": [
       "1.0"
      ]
     },
     "execution_count": 159,
     "metadata": {},
     "output_type": "execute_result"
    }
   ],
   "source": [
    "unc(5,5)"
   ]
  },
  {
   "cell_type": "code",
   "execution_count": 160,
   "id": "be02e433-d67a-4fff-9dcf-65867e1cb4f5",
   "metadata": {},
   "outputs": [],
   "source": [
    "def larger(a,b):\n",
    "    if a > b:\n",
    "        return a\n",
    "    else:\n",
    "        return b"
   ]
  },
  {
   "cell_type": "code",
   "execution_count": 161,
   "id": "05c88cd8-77b5-4813-9b59-ddd75a889c84",
   "metadata": {},
   "outputs": [
    {
     "data": {
      "text/plain": [
       "5"
      ]
     },
     "execution_count": 161,
     "metadata": {},
     "output_type": "execute_result"
    }
   ],
   "source": [
    "larger(4,5)"
   ]
  },
  {
   "cell_type": "code",
   "execution_count": 162,
   "id": "e49600b2-06b2-46b2-9515-0ef9674a4b9e",
   "metadata": {},
   "outputs": [
    {
     "data": {
      "text/plain": [
       "<function __main__.<lambda>(a, b)>"
      ]
     },
     "execution_count": 162,
     "metadata": {},
     "output_type": "execute_result"
    }
   ],
   "source": [
    "lambda a,b : a if a>b else b"
   ]
  },
  {
   "cell_type": "code",
   "execution_count": 163,
   "id": "0488956f-eb70-48f1-b32c-a0c1045c55bf",
   "metadata": {},
   "outputs": [],
   "source": [
    "large = lambda a,b : a if a>b else b"
   ]
  },
  {
   "cell_type": "code",
   "execution_count": 164,
   "id": "7c25e09e-9c09-4a40-817c-665cdadc18cc",
   "metadata": {},
   "outputs": [
    {
     "data": {
      "text/plain": [
       "44"
      ]
     },
     "execution_count": 164,
     "metadata": {},
     "output_type": "execute_result"
    }
   ],
   "source": [
    "large(44,4)"
   ]
  },
  {
   "cell_type": "code",
   "execution_count": 165,
   "id": "65ef677e-1dcb-43d0-b3bd-39c759b9da94",
   "metadata": {},
   "outputs": [
    {
     "data": {
      "text/plain": [
       "1"
      ]
     },
     "execution_count": 165,
     "metadata": {},
     "output_type": "execute_result"
    }
   ],
   "source": [
    "large(1,0)"
   ]
  },
  {
   "cell_type": "code",
   "execution_count": 166,
   "id": "7af4fc4e-f3d5-437b-b598-314aae02c992",
   "metadata": {},
   "outputs": [
    {
     "data": {
      "text/plain": [
       "0"
      ]
     },
     "execution_count": 166,
     "metadata": {},
     "output_type": "execute_result"
    }
   ],
   "source": [
    "large(0,0)"
   ]
  },
  {
   "cell_type": "code",
   "execution_count": 167,
   "id": "894a853b-941b-43f7-8e93-94ec93bae025",
   "metadata": {},
   "outputs": [],
   "source": [
    "lst = [(12,56),(2,4),(5,3)]"
   ]
  },
  {
   "cell_type": "code",
   "execution_count": 168,
   "id": "f5cc8701-77a4-49df-bb72-0945d01f2530",
   "metadata": {},
   "outputs": [],
   "source": [
    "lst.sort()"
   ]
  },
  {
   "cell_type": "code",
   "execution_count": 170,
   "id": "1076b475-9828-46e4-875d-c5de23272e42",
   "metadata": {},
   "outputs": [
    {
     "data": {
      "text/plain": [
       "[(2, 4), (5, 3), (12, 56)]"
      ]
     },
     "execution_count": 170,
     "metadata": {},
     "output_type": "execute_result"
    }
   ],
   "source": [
    "lst #it is sorted according to the 0th index of every object"
   ]
  },
  {
   "cell_type": "code",
   "execution_count": 171,
   "id": "cf6c5383-1ec7-4917-bda4-3118d9c4c7b8",
   "metadata": {},
   "outputs": [],
   "source": [
    "def k(x):\n",
    "    return x[1]"
   ]
  },
  {
   "cell_type": "code",
   "execution_count": 173,
   "id": "263e60f6-aad0-44c6-ad2b-a83d7ef77dd5",
   "metadata": {},
   "outputs": [],
   "source": [
    "lst.sort(key = k)"
   ]
  },
  {
   "cell_type": "code",
   "execution_count": 174,
   "id": "0e837759-5707-473e-8117-855f3039b22b",
   "metadata": {},
   "outputs": [
    {
     "data": {
      "text/plain": [
       "[(5, 3), (2, 4), (12, 56)]"
      ]
     },
     "execution_count": 174,
     "metadata": {},
     "output_type": "execute_result"
    }
   ],
   "source": [
    "lst"
   ]
  },
  {
   "cell_type": "code",
   "execution_count": 176,
   "id": "74e6933b-3548-4fc4-bcc9-3fc06a5f25e9",
   "metadata": {},
   "outputs": [],
   "source": [
    "lst.sort(key = lambda x : x[1])"
   ]
  },
  {
   "cell_type": "code",
   "execution_count": 177,
   "id": "7b694853-ecfc-4625-9383-83ad03fbbf90",
   "metadata": {},
   "outputs": [
    {
     "data": {
      "text/plain": [
       "[(5, 3), (2, 4), (12, 56)]"
      ]
     },
     "execution_count": 177,
     "metadata": {},
     "output_type": "execute_result"
    }
   ],
   "source": [
    "lst"
   ]
  },
  {
   "cell_type": "code",
   "execution_count": 178,
   "id": "f0fc3e8c-e92c-40bd-8cec-43bbc4c966b0",
   "metadata": {},
   "outputs": [],
   "source": [
    "lst.sort(key=lambda x:x[0])"
   ]
  },
  {
   "cell_type": "code",
   "execution_count": 179,
   "id": "5ef17f9d-1ab0-4480-aff9-339ffe51d0f5",
   "metadata": {},
   "outputs": [
    {
     "data": {
      "text/plain": [
       "[(2, 4), (5, 3), (12, 56)]"
      ]
     },
     "execution_count": 179,
     "metadata": {},
     "output_type": "execute_result"
    }
   ],
   "source": [
    "lst"
   ]
  },
  {
   "cell_type": "code",
   "execution_count": 183,
   "id": "ac74c089-d32a-4d77-95f3-b37a214296a3",
   "metadata": {},
   "outputs": [],
   "source": [
    "def even(li):\n",
    "    for i in li:\n",
    "        if i%2==0:\n",
    "            print(i)\n"
   ]
  },
  {
   "cell_type": "code",
   "execution_count": 184,
   "id": "9fc42989-8e8d-43b4-bc97-f12b135e00f8",
   "metadata": {},
   "outputs": [],
   "source": [
    "li  = range(11)"
   ]
  },
  {
   "cell_type": "code",
   "execution_count": 186,
   "id": "0b0e1edc-546c-4d2d-a6a7-e25d333b2f65",
   "metadata": {},
   "outputs": [
    {
     "name": "stdout",
     "output_type": "stream",
     "text": [
      "[0, 1, 2, 3, 4, 5, 6, 7, 8, 9, 10]\n"
     ]
    }
   ],
   "source": [
    "print(list(li))"
   ]
  },
  {
   "cell_type": "code",
   "execution_count": 187,
   "id": "45309ade-3cbd-4d7e-941c-1b5347496400",
   "metadata": {},
   "outputs": [
    {
     "name": "stdout",
     "output_type": "stream",
     "text": [
      "0\n",
      "2\n",
      "4\n",
      "6\n",
      "8\n",
      "10\n"
     ]
    }
   ],
   "source": [
    "even(li)"
   ]
  },
  {
   "cell_type": "code",
   "execution_count": 188,
   "id": "c32c908b-c000-4b9f-83ab-d8f8b30ecb68",
   "metadata": {},
   "outputs": [],
   "source": [
    "lst = [1,2,3,4,5,6]"
   ]
  },
  {
   "cell_type": "code",
   "execution_count": 189,
   "id": "1c88698e-9a7d-463f-abae-329fac6c3997",
   "metadata": {},
   "outputs": [
    {
     "name": "stdout",
     "output_type": "stream",
     "text": [
      "2\n",
      "4\n",
      "6\n"
     ]
    }
   ],
   "source": [
    "even(lst)"
   ]
  },
  {
   "cell_type": "code",
   "execution_count": 200,
   "id": "938d13f1-7687-464a-a190-f52c9fd1ef71",
   "metadata": {},
   "outputs": [],
   "source": [
    "def unique(lst):\n",
    "    new = []\n",
    "    for i in lst:\n",
    "        if i not in new:\n",
    "            new.append(i)\n",
    "    print(type(new))       \n",
    "    return(new)\n",
    "    "
   ]
  },
  {
   "cell_type": "code",
   "execution_count": 201,
   "id": "148b8450-60d5-4845-a94e-ea4b96d42072",
   "metadata": {},
   "outputs": [],
   "source": [
    "lora = [1,2,3,4,5,6,6,3,3,5,6,7,8,9]"
   ]
  },
  {
   "cell_type": "code",
   "execution_count": 202,
   "id": "a21f7aaf-dec3-4c37-863d-265e9b3dcc09",
   "metadata": {},
   "outputs": [
    {
     "name": "stdout",
     "output_type": "stream",
     "text": [
      "<class 'list'>\n"
     ]
    },
    {
     "data": {
      "text/plain": [
       "[1, 2, 3, 4, 5, 6, 7, 8, 9]"
      ]
     },
     "execution_count": 202,
     "metadata": {},
     "output_type": "execute_result"
    }
   ],
   "source": [
    "unique(lora)"
   ]
  },
  {
   "cell_type": "code",
   "execution_count": 207,
   "id": "e4661918-4ffd-4afb-b69f-c248188eeb7a",
   "metadata": {},
   "outputs": [],
   "source": [
    "def intro(name,hobby = 'Swimming'):\n",
    "    return (f'my name is {name} and my hobby is {hobby}')"
   ]
  },
  {
   "cell_type": "code",
   "execution_count": 208,
   "id": "182eb804-f583-4694-a097-36bb9dd91196",
   "metadata": {},
   "outputs": [
    {
     "data": {
      "text/plain": [
       "'my name is Srijan and my hobby is Swimming'"
      ]
     },
     "execution_count": 208,
     "metadata": {},
     "output_type": "execute_result"
    }
   ],
   "source": [
    "intro('Srijan')"
   ]
  },
  {
   "cell_type": "code",
   "execution_count": 209,
   "id": "81b7211a-4e4e-471f-8d9a-c484fda66136",
   "metadata": {},
   "outputs": [
    {
     "data": {
      "text/plain": [
       "'my name is Srijan and my hobby is Chess'"
      ]
     },
     "execution_count": 209,
     "metadata": {},
     "output_type": "execute_result"
    }
   ],
   "source": [
    "intro('Srijan','Chess')"
   ]
  },
  {
   "cell_type": "code",
   "execution_count": 211,
   "id": "c45929fa-0ef7-4fe4-bdcd-bb10336a8fb8",
   "metadata": {},
   "outputs": [],
   "source": [
    "#arbitary arguments"
   ]
  },
  {
   "cell_type": "code",
   "execution_count": 215,
   "id": "13549780-ddea-4913-99e7-31946778d751",
   "metadata": {},
   "outputs": [],
   "source": [
    "def test(*args):\n",
    "    print(args)\n",
    "    print(type(args))"
   ]
  },
  {
   "cell_type": "code",
   "execution_count": 216,
   "id": "d785891c-1b50-4e53-9cc5-d6f93c2d3c96",
   "metadata": {},
   "outputs": [
    {
     "name": "stdout",
     "output_type": "stream",
     "text": [
      "(1, 2, 4, 'Rahul', 6, 7)\n",
      "<class 'tuple'>\n"
     ]
    }
   ],
   "source": [
    "test(1,2,4,'Rahul',6,7)"
   ]
  },
  {
   "cell_type": "code",
   "execution_count": 229,
   "id": "986536a2-a1ba-4f05-bfb7-b1080e393513",
   "metadata": {},
   "outputs": [],
   "source": [
    "def raw(*sk):\n",
    "    for i in sk:\n",
    "        if i%2==0:\n",
    "            print('Multiple of 2')\n",
    "        else:\n",
    "            print(i)"
   ]
  },
  {
   "cell_type": "code",
   "execution_count": 230,
   "id": "34f78280-19af-46c0-8449-9dc84bd26656",
   "metadata": {},
   "outputs": [
    {
     "name": "stdout",
     "output_type": "stream",
     "text": [
      "1\n",
      "Multiple of 2\n",
      "45\n",
      "65\n",
      "55\n",
      "Multiple of 2\n",
      "Multiple of 2\n"
     ]
    }
   ],
   "source": [
    "raw(1,2,45,65,55,82,4562363426)"
   ]
  },
  {
   "cell_type": "code",
   "execution_count": 235,
   "id": "9b877d0c-a0bd-4ab7-a2e1-a6c0b026f4bf",
   "metadata": {},
   "outputs": [],
   "source": [
    "def war(**kwargs):\n",
    "    print(kwargs)\n",
    "    print(type(kwargs))"
   ]
  },
  {
   "cell_type": "code",
   "execution_count": 236,
   "id": "c0bc91b3-926a-4064-82e1-c6badf108922",
   "metadata": {},
   "outputs": [
    {
     "name": "stdout",
     "output_type": "stream",
     "text": [
      "{'car': 200, 'bike': 100}\n",
      "<class 'dict'>\n"
     ]
    }
   ],
   "source": [
    "war(car = 200,bike =100)"
   ]
  },
  {
   "cell_type": "code",
   "execution_count": 237,
   "id": "8be5794b-0e2e-4745-8a0c-9c812abb48d9",
   "metadata": {},
   "outputs": [
    {
     "name": "stdout",
     "output_type": "stream",
     "text": [
      "{'name': 'Srijan', 'Age': 16, 'Hobbies': ['chess', 'sketching', 'coding']}\n",
      "<class 'dict'>\n"
     ]
    }
   ],
   "source": [
    "war(name = 'Srijan' , Age = 16 , Hobbies = ['chess','sketching','coding'])"
   ]
  },
  {
   "cell_type": "code",
   "execution_count": 246,
   "id": "f1789750-f560-4d72-9842-44793e81b4f2",
   "metadata": {},
   "outputs": [],
   "source": [
    "def mix(a,b,c,*llb,**lk):\n",
    "    print(a,b,c)\n",
    "    print(llb) \n",
    "    print(type(llb))\n",
    "    print(lk)\n",
    "    print(type(lk))"
   ]
  },
  {
   "cell_type": "code",
   "execution_count": 248,
   "id": "b322c1f2-cf03-4179-a8e3-f6862b0ec7d5",
   "metadata": {},
   "outputs": [
    {
     "name": "stdout",
     "output_type": "stream",
     "text": [
      "1 5 7\n",
      "(2, 4, 5, 6, 77, 34, 'car')\n",
      "<class 'tuple'>\n",
      "{'name': 'Srijan', 'age': 16, 'fav': 'GPT'}\n",
      "<class 'dict'>\n"
     ]
    }
   ],
   "source": [
    "mix(1,5,7,2,4,5,6,77,34,'car',name = 'Srijan',age = 16,fav = 'GPT')"
   ]
  },
  {
   "cell_type": "code",
   "execution_count": 249,
   "id": "2313e045-1988-4e3f-a682-8d90f077c9cd",
   "metadata": {},
   "outputs": [],
   "source": [
    "def gg(*args):\n",
    "    print(args)\n",
    "    print(type(args))"
   ]
  },
  {
   "cell_type": "code",
   "execution_count": 250,
   "id": "011ee92b-64c7-4ac1-b7fe-83282b890ba2",
   "metadata": {},
   "outputs": [
    {
     "name": "stdout",
     "output_type": "stream",
     "text": [
      "(1, 2, 3, 4, 5, 'car', 'bike')\n",
      "<class 'tuple'>\n"
     ]
    }
   ],
   "source": [
    "gg(1,2,3,4,5,'car','bike')"
   ]
  },
  {
   "cell_type": "code",
   "execution_count": 251,
   "id": "542c8c56-cd65-48d0-b22c-a3e0efe106ad",
   "metadata": {},
   "outputs": [],
   "source": [
    "def ff(*war,**wart):\n",
    "    print(war)\n",
    "    print(wart)"
   ]
  },
  {
   "cell_type": "code",
   "execution_count": 254,
   "id": "96dbb852-4cd2-47c4-981f-46add6de418c",
   "metadata": {},
   "outputs": [
    {
     "name": "stdout",
     "output_type": "stream",
     "text": [
      "(1, 2)\n",
      "{'name': 'Srijan', 'age': 16}\n"
     ]
    }
   ],
   "source": [
    "ff(1,2,name='Srijan',age=16)"
   ]
  },
  {
   "cell_type": "code",
   "execution_count": 258,
   "id": "5d06a5f6-b2c3-40bb-850f-f11390c036aa",
   "metadata": {},
   "outputs": [],
   "source": [
    "def Area(r):\n",
    "    result = float(3.14159*r**2)\n",
    "    return round(result,2)"
   ]
  },
  {
   "cell_type": "code",
   "execution_count": 259,
   "id": "77143147-9299-4884-8f0f-1380ebc42edb",
   "metadata": {},
   "outputs": [
    {
     "data": {
      "text/plain": [
       "78.54"
      ]
     },
     "execution_count": 259,
     "metadata": {},
     "output_type": "execute_result"
    }
   ],
   "source": [
    "Area(5)"
   ]
  },
  {
   "cell_type": "code",
   "execution_count": 260,
   "id": "9b6ffa9d-90d9-4e3a-af7b-9ffeba85bec3",
   "metadata": {},
   "outputs": [],
   "source": [
    "def Interest(p,c,t=2,r=0.09):\n",
    "  return p*t*r"
   ]
  },
  {
   "cell_type": "code",
   "execution_count": 261,
   "id": "407a51fc-b0ac-4f95-b735-2bb2b2f673d9",
   "metadata": {},
   "outputs": [
    {
     "data": {
      "text/plain": [
       "180.0"
      ]
     },
     "execution_count": 261,
     "metadata": {},
     "output_type": "execute_result"
    }
   ],
   "source": [
    "Interest(p=1000,c=5)"
   ]
  },
  {
   "cell_type": "code",
   "execution_count": 262,
   "id": "89e8d69d-9b71-4d3a-8ea9-c67e6158a83c",
   "metadata": {},
   "outputs": [
    {
     "ename": "SyntaxError",
     "evalue": "positional argument follows keyword argument (2336834663.py, line 1)",
     "output_type": "error",
     "traceback": [
      "\u001b[1;36m  Cell \u001b[1;32mIn[262], line 1\u001b[1;36m\u001b[0m\n\u001b[1;33m    Interest(r=0.05,5000,3)\u001b[0m\n\u001b[1;37m                          ^\u001b[0m\n\u001b[1;31mSyntaxError\u001b[0m\u001b[1;31m:\u001b[0m positional argument follows keyword argument\n"
     ]
    }
   ],
   "source": [
    "Interest(r=0.05,5000,3)"
   ]
  },
  {
   "cell_type": "code",
   "execution_count": 263,
   "id": "845fb91a-5ad5-4bd0-9ad9-82ee4ede4d4d",
   "metadata": {},
   "outputs": [
    {
     "ename": "SyntaxError",
     "evalue": "positional argument follows keyword argument (2336834663.py, line 1)",
     "output_type": "error",
     "traceback": [
      "\u001b[1;36m  Cell \u001b[1;32mIn[263], line 1\u001b[1;36m\u001b[0m\n\u001b[1;33m    Interest(r=0.05,5000,3)\u001b[0m\n\u001b[1;37m                          ^\u001b[0m\n\u001b[1;31mSyntaxError\u001b[0m\u001b[1;31m:\u001b[0m positional argument follows keyword argument\n"
     ]
    }
   ],
   "source": [
    "Interest(r=0.05,5000,3)"
   ]
  },
  {
   "cell_type": "code",
   "execution_count": 265,
   "id": "f57f5702-e18b-4324-af17-4b8eec98a3c1",
   "metadata": {},
   "outputs": [
    {
     "data": {
      "text/plain": [
       "1200.0"
      ]
     },
     "execution_count": 265,
     "metadata": {},
     "output_type": "execute_result"
    }
   ],
   "source": [
    "Interest(c=4,r=0.12,p=5000)"
   ]
  },
  {
   "cell_type": "code",
   "execution_count": 266,
   "id": "e3f52860-5de9-4a7a-a19e-c706630531b7",
   "metadata": {},
   "outputs": [],
   "source": [
    "def fun1(name,age):\n",
    "    print(name,age)"
   ]
  },
  {
   "cell_type": "code",
   "execution_count": 267,
   "id": "e0894328-1e26-45ed-a096-e135c7970d8d",
   "metadata": {},
   "outputs": [
    {
     "name": "stdout",
     "output_type": "stream",
     "text": [
      "Srijan 16\n"
     ]
    }
   ],
   "source": [
    "fun1('Srijan',16)"
   ]
  },
  {
   "cell_type": "code",
   "execution_count": 268,
   "id": "803d358d-3b77-4bad-98fb-e653d5afaccb",
   "metadata": {},
   "outputs": [
    {
     "name": "stdout",
     "output_type": "stream",
     "text": [
      "Mohit 23\n"
     ]
    }
   ],
   "source": [
    "fun1(age =23, name=\"Mohit\")"
   ]
  },
  {
   "cell_type": "code",
   "execution_count": 269,
   "id": "22eef8b5-3fd3-4201-afd2-398029aabbd3",
   "metadata": {},
   "outputs": [
    {
     "ename": "SyntaxError",
     "evalue": "positional argument follows keyword argument (1452028797.py, line 1)",
     "output_type": "error",
     "traceback": [
      "\u001b[1;36m  Cell \u001b[1;32mIn[269], line 1\u001b[1;36m\u001b[0m\n\u001b[1;33m    fun1(name=\"Mohit\", 23)\u001b[0m\n\u001b[1;37m                         ^\u001b[0m\n\u001b[1;31mSyntaxError\u001b[0m\u001b[1;31m:\u001b[0m positional argument follows keyword argument\n"
     ]
    }
   ],
   "source": [
    "fun1(name=\"Mohit\", 23)"
   ]
  },
  {
   "cell_type": "code",
   "execution_count": 270,
   "id": "12714105-149c-43e6-8d04-c5139e0584ee",
   "metadata": {},
   "outputs": [
    {
     "name": "stdout",
     "output_type": "stream",
     "text": [
      "23 Mohit\n"
     ]
    }
   ],
   "source": [
    "fun1(23, \"Mohit\")"
   ]
  },
  {
   "cell_type": "code",
   "execution_count": 271,
   "id": "b1e36081-3e7b-4015-817b-2793edffbe03",
   "metadata": {},
   "outputs": [
    {
     "name": "stdout",
     "output_type": "stream",
     "text": [
      "68.0\n"
     ]
    }
   ],
   "source": [
    "def convert(t):\n",
    "    return t*9/5 + 32\n",
    "\n",
    "print(convert(20))"
   ]
  },
  {
   "cell_type": "code",
   "execution_count": 272,
   "id": "db79f47a-886a-48bf-add3-6eb1b571e72c",
   "metadata": {},
   "outputs": [],
   "source": [
    "def solve(A,B,C):\n",
    "    return -A+B+C"
   ]
  },
  {
   "cell_type": "code",
   "execution_count": 274,
   "id": "e50f5aba-646e-419b-9abf-3892191f0a40",
   "metadata": {},
   "outputs": [
    {
     "data": {
      "text/plain": [
       "1"
      ]
     },
     "execution_count": 274,
     "metadata": {},
     "output_type": "execute_result"
    }
   ],
   "source": [
    "solve(4,3,2)"
   ]
  },
  {
   "cell_type": "code",
   "execution_count": 275,
   "id": "5f648326-a38a-4721-9d5b-5c3afd510a54",
   "metadata": {},
   "outputs": [],
   "source": [
    "def solve(A,B,C):\n",
    "    Solution = -A+B+C\n",
    "    return Solution"
   ]
  },
  {
   "cell_type": "code",
   "execution_count": 276,
   "id": "6d591c9a-11a0-4f6b-822b-41afa60bc6b8",
   "metadata": {},
   "outputs": [
    {
     "data": {
      "text/plain": [
       "0"
      ]
     },
     "execution_count": 276,
     "metadata": {},
     "output_type": "execute_result"
    }
   ],
   "source": [
    "solve(4,3,1)"
   ]
  },
  {
   "cell_type": "code",
   "execution_count": null,
   "id": "07476e7b-7230-4e07-acaf-547e83399c45",
   "metadata": {},
   "outputs": [],
   "source": []
  }
 ],
 "metadata": {
  "kernelspec": {
   "display_name": "Python 3 (ipykernel)",
   "language": "python",
   "name": "python3"
  },
  "language_info": {
   "codemirror_mode": {
    "name": "ipython",
    "version": 3
   },
   "file_extension": ".py",
   "mimetype": "text/x-python",
   "name": "python",
   "nbconvert_exporter": "python",
   "pygments_lexer": "ipython3",
   "version": "3.12.7"
  }
 },
 "nbformat": 4,
 "nbformat_minor": 5
}
